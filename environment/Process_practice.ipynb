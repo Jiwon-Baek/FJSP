{
 "cells": [
  {
   "cell_type": "code",
   "execution_count": 4,
   "id": "initial_id",
   "metadata": {
    "collapsed": true,
    "ExecuteTime": {
     "end_time": "2024-01-22T10:12:05.576459900Z",
     "start_time": "2024-01-22T10:12:05.573111700Z"
    }
   },
   "outputs": [
    {
     "name": "stdout",
     "output_type": "stream",
     "text": [
      "0 \tMy name is  0 , I'm here!\n",
      "3 \tMy name is  3 , I'm here!\n",
      "5 \tMy name is  0 , I'm back!\n",
      "6 \tMy name is  6 , I'm here!\n",
      "8 \tMy name is  3 , I'm back!\n",
      "9 \tMy name is  9 , I'm here!\n",
      "11 \tMy name is  6 , I'm back!\n",
      "12 \tMy name is  12 , I'm here!\n",
      "14 \tMy name is  9 , I'm back!\n",
      "15 \tMy name is  15 , I'm here!\n",
      "17 \tMy name is  12 , I'm back!\n",
      "18 \tMy name is  18 , I'm here!\n",
      "20 \tMy name is  15 , I'm back!\n",
      "21 \tMy name is  21 , I'm here!\n",
      "23 \tMy name is  18 , I'm back!\n",
      "24 \tMy name is  24 , I'm here!\n",
      "26 \tMy name is  21 , I'm back!\n",
      "27 \tMy name is  27 , I'm here!\n",
      "29 \tMy name is  24 , I'm back!\n",
      "30 \tMy name is  30 , I'm here!\n",
      "32 \tMy name is  27 , I'm back!\n",
      "33 \tMy name is  33 , I'm here!\n",
      "35 \tMy name is  30 , I'm back!\n",
      "36 \tMy name is  36 , I'm here!\n",
      "38 \tMy name is  33 , I'm back!\n",
      "39 \tMy name is  39 , I'm here!\n",
      "41 \tMy name is  36 , I'm back!\n",
      "42 \tMy name is  42 , I'm here!\n",
      "44 \tMy name is  39 , I'm back!\n",
      "45 \tMy name is  45 , I'm here!\n",
      "47 \tMy name is  42 , I'm back!\n",
      "48 \tMy name is  48 , I'm here!\n"
     ]
    }
   ],
   "source": [
    "import simpy\n",
    "\n",
    "class MyProcess:\n",
    "    def __init__(self, env):\n",
    "        self.env = env\n",
    "        \n",
    "        env.process(self.make_process())\n",
    "        \n",
    "    def run(self,i):\n",
    "        print(self.env.now, '\\tMy name is ',i,', I\\'m here!')\n",
    "        yield self.env.timeout(5)\n",
    "        print(self.env.now, '\\tMy name is ',i,', I\\'m back!')\n",
    "        \n",
    "    def make_process(self):\n",
    "        while True:\n",
    "            self.env.process(self.run(self.env.now))\n",
    "            yield self.env.timeout(3)\n",
    "            \n",
    "env = simpy.Environment()\n",
    "myprocess = MyProcess(env)\n",
    "env.run(50)"
   ]
  },
  {
   "cell_type": "code",
   "execution_count": null,
   "outputs": [],
   "source": [],
   "metadata": {
    "collapsed": false
   },
   "id": "3fb0c0150671fb77"
  }
 ],
 "metadata": {
  "kernelspec": {
   "display_name": "Python 3",
   "language": "python",
   "name": "python3"
  },
  "language_info": {
   "codemirror_mode": {
    "name": "ipython",
    "version": 2
   },
   "file_extension": ".py",
   "mimetype": "text/x-python",
   "name": "python",
   "nbconvert_exporter": "python",
   "pygments_lexer": "ipython2",
   "version": "2.7.6"
  }
 },
 "nbformat": 4,
 "nbformat_minor": 5
}
